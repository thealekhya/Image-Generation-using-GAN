{
  "nbformat": 4,
  "nbformat_minor": 0,
  "metadata": {
    "colab": {
      "provenance": [],
      "authorship_tag": "ABX9TyMuJeyIYrGF1aRrVTz9sA/s",
      "include_colab_link": true
    },
    "kernelspec": {
      "name": "python3",
      "display_name": "Python 3"
    },
    "language_info": {
      "name": "python"
    }
  },
  "cells": [
    {
      "cell_type": "markdown",
      "metadata": {
        "id": "view-in-github",
        "colab_type": "text"
      },
      "source": [
        "<a href=\"https://colab.research.google.com/github/thealekhya/Image-Generation-using-GAN/blob/main/image_generator_pynb.ipynb\" target=\"_parent\"><img src=\"https://colab.research.google.com/assets/colab-badge.svg\" alt=\"Open In Colab\"/></a>"
      ]
    },
    {
      "cell_type": "code",
      "execution_count": null,
      "metadata": {
        "id": "A0k2I4MU5S2g"
      },
      "outputs": [],
      "source": [
        "from tensorflow.keras.models import load_model\n",
        "import matplotlib.pyplot as plt\n",
        "from numpy.random import randn\n",
        "import tensorflow\n",
        "\n",
        "generator = load_model(\"generator_cifar10_1000epochs.keras\")\n",
        "\n",
        "def generate_images():\n",
        "    predictions = generator(tensorflow.random.normal([64, 100]), training=False)\n",
        "    fig = plt.figure(figsize=(8,8))\n",
        "\n",
        "    for i in range(predictions.shape[0]):\n",
        "        plt.subplot(8,8,i+1)\n",
        "        plt.imshow((predictions[i] * 127.5 + 127.5).numpy().astype('uint8'))\n",
        "        plt.axis('off')\n",
        "    plt.savefig(\"Sample_Images\")\n",
        "    plt.close()\n",
        "generate_images()"
      ]
    }
  ]
}